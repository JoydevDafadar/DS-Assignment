{
 "cells": [
  {
   "cell_type": "markdown",
   "id": "8f7c5da6-de15-4464-8f1e-d6129e5cf689",
   "metadata": {},
   "source": [
    "Q1. 'For' loop is used when we know how many times a specific piece of code is going to execute repetedly. Besically we iterate a list or a string in using a for loop.\n"
   ]
  },
  {
   "cell_type": "code",
   "execution_count": 1,
   "id": "b408b8a9-bb85-42e5-bef9-41ee92068b03",
   "metadata": {},
   "outputs": [
    {
     "name": "stdout",
     "output_type": "stream",
     "text": [
      "Printing the element of the list l \n",
      "1\n",
      "2\n",
      "3\n",
      "4\n",
      "5\n"
     ]
    }
   ],
   "source": [
    "l = [1,2,3,4,5]\n",
    "print(\"Printing the element of the list l \")\n",
    "for i in l :\n",
    "    print(i)"
   ]
  },
  {
   "cell_type": "markdown",
   "id": "1cac6cd9-516d-48f6-b60d-71e83ff3af93",
   "metadata": {},
   "source": [
    "while loop is continiously run until the statement become false. It is also used for looping a list or a string but in anathor way. In case of while a condition will always exist."
   ]
  },
  {
   "cell_type": "code",
   "execution_count": 3,
   "id": "88c80a42-c643-40ef-9368-d80769264a97",
   "metadata": {},
   "outputs": [
    {
     "name": "stdout",
     "output_type": "stream",
     "text": [
      "1\n",
      "2\n",
      "3\n",
      "4\n",
      "5\n"
     ]
    }
   ],
   "source": [
    "i = 0;\n",
    "while i < len(l) :\n",
    "    print(l[i])\n",
    "    i += 1"
   ]
  },
  {
   "cell_type": "markdown",
   "id": "0a32f915-e857-4fc3-9ff9-374c0c84a46a",
   "metadata": {},
   "source": [
    "Q2"
   ]
  },
  {
   "cell_type": "code",
   "execution_count": 4,
   "id": "1287ff71-a4d9-41eb-867f-95361b077573",
   "metadata": {},
   "outputs": [
    {
     "name": "stdout",
     "output_type": "stream",
     "text": [
      "The sum is -  55\n",
      "The Product is -  3628800\n"
     ]
    }
   ],
   "source": [
    "sum = 0\n",
    "product = 1\n",
    "for i in range(1,11) :\n",
    "    sum += i\n",
    "    product *= i\n",
    "\n",
    "print (\"The sum is - \", sum)\n",
    "print(\"The Product is - \", product)    "
   ]
  },
  {
   "cell_type": "code",
   "execution_count": 10,
   "id": "1bbcad26-5614-4db8-bd83-d7bd090ff099",
   "metadata": {},
   "outputs": [
    {
     "name": "stdout",
     "output_type": "stream",
     "text": [
      "The sum is -  55\n",
      "The Product is -  3628800\n"
     ]
    }
   ],
   "source": [
    "sum = 0\n",
    "product = 1\n",
    "num = 10\n",
    "while num > 0 :\n",
    "    sum += num\n",
    "    product *= num\n",
    "    num -= 1\n",
    "print (\"The sum is - \", sum)\n",
    "print(\"The Product is - \", product) "
   ]
  },
  {
   "cell_type": "markdown",
   "id": "2b2398d4-d945-4f9a-8c93-5386165cf1ac",
   "metadata": {},
   "source": [
    "Q3."
   ]
  },
  {
   "cell_type": "code",
   "execution_count": 23,
   "id": "3fde69d0-c4d3-4c5f-af33-e63af0ed9e78",
   "metadata": {},
   "outputs": [
    {
     "name": "stdin",
     "output_type": "stream",
     "text": [
      "Enter the electricity bill in unit -  380\n"
     ]
    },
    {
     "name": "stdout",
     "output_type": "stream",
     "text": [
      "The electricity bill is -  3650.0\n"
     ]
    }
   ],
   "source": [
    "unit = int(input(\"Enter the consumed electricity in unit - \"))\n",
    "\n",
    "bill = 0\n",
    "if unit <= 100 :\n",
    "    bill = unit * 4.5\n",
    "elif unit <= 200 :\n",
    "    bill = (100 * 4.5) + ((unit-100) * 6)\n",
    "elif unit <= 300 :\n",
    "    bill = (100 * 4.5) + (100 * 6) + ((unit-200) *10)\n",
    "else :\n",
    "    bill = (100 * 4.5) + (100 * 6) + (100 * 10) + ((unit-300) * 20)\n",
    "    \n",
    "print(\"The electricity bill is - \",bill)"
   ]
  },
  {
   "cell_type": "markdown",
   "id": "784f7791-6918-4a34-bc4a-8171b536d569",
   "metadata": {},
   "source": [
    "Q4.\n"
   ]
  },
  {
   "cell_type": "code",
   "execution_count": 18,
   "id": "5770d0c1-7c91-46fd-8c64-8283ba422039",
   "metadata": {},
   "outputs": [],
   "source": [
    "\n",
    "div_list = []\n",
    "\n",
    "for i in range(1,101) :\n",
    "    val = i ** 3\n",
    "    if( val%4 == 0 or val%5 == 0 ) :\n",
    "        div_list.append(i)\n"
   ]
  },
  {
   "cell_type": "code",
   "execution_count": 19,
   "id": "5f6fc770-994b-4f92-bffe-d31c969d8029",
   "metadata": {},
   "outputs": [
    {
     "data": {
      "text/plain": [
       "[2,\n",
       " 4,\n",
       " 5,\n",
       " 6,\n",
       " 8,\n",
       " 10,\n",
       " 12,\n",
       " 14,\n",
       " 15,\n",
       " 16,\n",
       " 18,\n",
       " 20,\n",
       " 22,\n",
       " 24,\n",
       " 25,\n",
       " 26,\n",
       " 28,\n",
       " 30,\n",
       " 32,\n",
       " 34,\n",
       " 35,\n",
       " 36,\n",
       " 38,\n",
       " 40,\n",
       " 42,\n",
       " 44,\n",
       " 45,\n",
       " 46,\n",
       " 48,\n",
       " 50,\n",
       " 52,\n",
       " 54,\n",
       " 55,\n",
       " 56,\n",
       " 58,\n",
       " 60,\n",
       " 62,\n",
       " 64,\n",
       " 65,\n",
       " 66,\n",
       " 68,\n",
       " 70,\n",
       " 72,\n",
       " 74,\n",
       " 75,\n",
       " 76,\n",
       " 78,\n",
       " 80,\n",
       " 82,\n",
       " 84,\n",
       " 85,\n",
       " 86,\n",
       " 88,\n",
       " 90,\n",
       " 92,\n",
       " 94,\n",
       " 95,\n",
       " 96,\n",
       " 98,\n",
       " 100]"
      ]
     },
     "execution_count": 19,
     "metadata": {},
     "output_type": "execute_result"
    }
   ],
   "source": [
    "div_list"
   ]
  },
  {
   "cell_type": "code",
   "execution_count": null,
   "id": "ed910327-2c63-4167-8ae5-f752e347045e",
   "metadata": {},
   "outputs": [],
   "source": [
    "string = \"I want to become a data scientist\"\n",
    "count = 0\n",
    "vowel = set(\"aeiouAEIOU\")\n",
    "for i in range(0,len(string)) :\n",
    "    value = string[i]\n",
    "    if value in vowel :\n",
    "        count += 1"
   ]
  }
 ],
 "metadata": {
  "kernelspec": {
   "display_name": "Python 3 (ipykernel)",
   "language": "python",
   "name": "python3"
  },
  "language_info": {
   "codemirror_mode": {
    "name": "ipython",
    "version": 3
   },
   "file_extension": ".py",
   "mimetype": "text/x-python",
   "name": "python",
   "nbconvert_exporter": "python",
   "pygments_lexer": "ipython3",
   "version": "3.10.8"
  }
 },
 "nbformat": 4,
 "nbformat_minor": 5
}
